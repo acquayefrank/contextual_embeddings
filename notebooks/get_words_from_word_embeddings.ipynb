{
 "cells": [
  {
   "cell_type": "code",
   "execution_count": 1,
   "metadata": {},
   "outputs": [],
   "source": [
    "import sys\n",
    "import os\n",
    "\n",
    "PACKAGE_PARENT = '..'\n",
    "SCRIPT_DIR = os.path.dirname(os.path.realpath(os.path.join(os.getcwd(), os.path.expanduser('__file__'))))\n",
    "sys.path.append(os.path.normpath(os.path.join(SCRIPT_DIR, PACKAGE_PARENT)))"
   ]
  },
  {
   "cell_type": "code",
   "execution_count": 2,
   "metadata": {},
   "outputs": [],
   "source": [
    "from gensim.models import KeyedVectors"
   ]
  },
  {
   "cell_type": "code",
   "execution_count": 3,
   "metadata": {
    "jupyter": {
     "outputs_hidden": false
    },
    "pycharm": {
     "name": "#%%\n"
    }
   },
   "outputs": [],
   "source": [
    "from models import (\n",
    "    FASTTEXT_CRAWL_SUB_300D,\n",
    "    FASTTEXT_CRAWL_VEC_300D,\n",
    "    FASTTEXT_WIKI_SUB_300D,\n",
    "    FASTTEXT_WIKI_VEC_300D,\n",
    "    GLOVE_6B_50D,\n",
    "    GLOVE_6B_100D,\n",
    "    GLOVE_6B_200D,\n",
    "    GLOVE_6B_300D,\n",
    "    GLOVE_42B_300D,\n",
    "    GLOVE_840B_300D,\n",
    "    GLOVE_TWITTER_27B_25D,\n",
    "    GLOVE_TWITTER_27B_50D,\n",
    "    GLOVE_TWITTER_27B_100D,\n",
    "    GLOVE_TWITTER_27B_200D,\n",
    "    WORD2VEC_GOOGLE_NEWS_300D,\n",
    ")"
   ]
  },
  {
   "cell_type": "code",
   "execution_count": 4,
   "metadata": {
    "jupyter": {
     "outputs_hidden": false
    },
    "pycharm": {
     "name": "#%%\n"
    }
   },
   "outputs": [],
   "source": [
    "embeddings = {\n",
    "    \"GLOVE_6B_50D\": (GLOVE_6B_50D, 50, \"glove\"),\n",
    "    \"GLOVE_6B_100D\": (GLOVE_6B_100D, 100, \"glove\"),\n",
    "    \"GLOVE_6B_200D\": (GLOVE_6B_200D, 200, \"glove\"),\n",
    "    \"GLOVE_6B_300D\": (GLOVE_6B_300D, 300, \"glove\"),\n",
    "    \"GLOVE_42B_300D\": (GLOVE_42B_300D, 300, \"glove\"),\n",
    "    \"GLOVE_840B_300D\": (GLOVE_840B_300D, 300, \"glove\"),\n",
    "    \"GLOVE_TWITTER_27B_25D\": (GLOVE_TWITTER_27B_25D, 25, \"glove\"),\n",
    "    \"GLOVE_TWITTER_27B_50D\": (GLOVE_TWITTER_27B_50D, 50, \"glove\"),\n",
    "    \"GLOVE_TWITTER_27B_100D\": (GLOVE_TWITTER_27B_100D, 100, \"glove\"),\n",
    "    \"GLOVE_TWITTER_27B_200D\": (GLOVE_TWITTER_27B_200D, 200, \"glove\"),\n",
    "    \"WORD2VEC_GOOGLE_NEWS_300D\": (WORD2VEC_GOOGLE_NEWS_300D, 300, \"word2vec\"),\n",
    "    \"FASTTEXT_CRAWL_SUB\": (FASTTEXT_CRAWL_SUB_300D, 300, \"fasttext\"),\n",
    "    \"FASTTEXT_CRAWL_VEC_300D\": (FASTTEXT_CRAWL_VEC_300D, 300, \"fasttext\"),\n",
    "    \"FASTTEXT_WIKI_SUB_300D\": (FASTTEXT_WIKI_SUB_300D, 300, \"fasttext\"),\n",
    "    \"FASTTEXT_WIKI_VEC_300D\": (FASTTEXT_WIKI_VEC_300D, 300, \"fasttext\"),\n",
    "}"
   ]
  },
  {
   "cell_type": "code",
   "execution_count": 8,
   "metadata": {
    "jupyter": {
     "outputs_hidden": false
    },
    "pycharm": {
     "name": "#%%\n"
    }
   },
   "outputs": [],
   "source": [
    "import pandas as pd\n",
    "\n",
    "def _load_word_embedding_model(file=None, word_embedding_type=\"glove\"):\n",
    "    model = {}\n",
    "    if file is None:\n",
    "        file, *ign = embeddings.get(\"GLOVE_6B_300D\")\n",
    "    print(\"Loading Model\")\n",
    "    if word_embedding_type == \"glove\":\n",
    "        df = pd.read_csv(file, sep=\" \", quoting=3, header=None, index_col=0)\n",
    "        model = {key: val.values for key, val in df.T.items()}\n",
    "        print(len(model), \" words loaded!\")\n",
    "    elif word_embedding_type == \"word2vec\":\n",
    "        model = KeyedVectors.load_word2vec_format(file, binary=True)\n",
    "    elif word_embedding_type == \"fasttext\":\n",
    "        model = KeyedVectors.load_word2vec_format(file, binary=False)\n",
    "    return model"
   ]
  },
  {
   "cell_type": "code",
   "execution_count": 10,
   "metadata": {
    "jupyter": {
     "outputs_hidden": false
    },
    "pycharm": {
     "name": "#%%\n"
    }
   },
   "outputs": [
    {
     "name": "stdout",
     "output_type": "stream",
     "text": [
      "Loading Model\n",
      "399998  words loaded!\n"
     ]
    }
   ],
   "source": [
    "glove_embeddings = _load_word_embedding_model()"
   ]
  },
  {
   "cell_type": "code",
   "execution_count": 16,
   "metadata": {
    "jupyter": {
     "outputs_hidden": false
    },
    "pycharm": {
     "name": "#%%\n"
    }
   },
   "outputs": [
    {
     "name": "stdout",
     "output_type": "stream",
     "text": [
      "Loading Model\n"
     ]
    }
   ],
   "source": [
    "file, *ign = embeddings.get(\"WORD2VEC_GOOGLE_NEWS_300D\")\n",
    "gensim_embeddings = _load_word_embedding_model(file=file, word_embedding_type=\"word2vec\")"
   ]
  },
  {
   "cell_type": "code",
   "execution_count": 29,
   "metadata": {},
   "outputs": [
    {
     "data": {
      "text/plain": [
       "2817290"
      ]
     },
     "execution_count": 29,
     "metadata": {},
     "output_type": "execute_result"
    }
   ],
   "source": [
    "uprocessed_words = list(glove_embeddings.keys()) + list(gensim_embeddings.vocab.keys())\n",
    "words = set()\n",
    "for word in uprocessed_words:\n",
    "    words.add(str(word).lower())\n",
    "    \n",
    "len(words)"
   ]
  },
  {
   "cell_type": "code",
   "execution_count": 31,
   "metadata": {},
   "outputs": [
    {
     "data": {
      "text/plain": [
       "'overworked'"
      ]
     },
     "execution_count": 31,
     "metadata": {},
     "output_type": "execute_result"
    }
   ],
   "source": [
    "list(words)[0]"
   ]
  },
  {
   "cell_type": "code",
   "execution_count": null,
   "metadata": {},
   "outputs": [],
   "source": []
  }
 ],
 "metadata": {
  "kernelspec": {
   "display_name": "Python 3",
   "language": "python",
   "name": "python3"
  },
  "language_info": {
   "codemirror_mode": {
    "name": "ipython",
    "version": 3
   },
   "file_extension": ".py",
   "mimetype": "text/x-python",
   "name": "python",
   "nbconvert_exporter": "python",
   "pygments_lexer": "ipython3",
   "version": "3.8.6"
  }
 },
 "nbformat": 4,
 "nbformat_minor": 4
}
