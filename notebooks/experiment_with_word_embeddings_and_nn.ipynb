{
 "cells": [
  {
   "cell_type": "code",
   "execution_count": 1,
   "metadata": {},
   "outputs": [],
   "source": [
    "import pandas as pd\n",
    "\n",
    "def _load_glove_model(File='../models/glove_42B/glove.42B.300d.txt'):\n",
    "    print(\"Loading Glove Model\")\n",
    "    df = pd.read_csv(File, sep=\" \", quoting=3, header=None, index_col=0)\n",
    "    gloveModel = {key: val.values for key, val in df.T.items()}\n",
    "    print(len(gloveModel),\" words loaded!\")\n",
    "    return gloveModel"
   ]
  },
  {
   "cell_type": "code",
   "execution_count": 2,
   "metadata": {},
   "outputs": [
    {
     "name": "stdout",
     "output_type": "stream",
     "text": [
      "Loading Glove Model\n",
      "1917492  words loaded!\n",
      "Wall time: 2min\n"
     ]
    },
    {
     "data": {
      "text/plain": [
       "300"
      ]
     },
     "execution_count": 2,
     "metadata": {},
     "output_type": "execute_result"
    }
   ],
   "source": [
    "%%time\n",
    "GLOVE_MODEL = _load_glove_model()\n",
    "len(GLOVE_MODEL.get(\"move\", None))"
   ]
  },
  {
   "cell_type": "code",
   "execution_count": 3,
   "metadata": {},
   "outputs": [
    {
     "name": "stdout",
     "output_type": "stream",
     "text": [
      "Loading Glove Model\n",
      "2196009  words loaded!\n",
      "Wall time: 2min 53s\n"
     ]
    },
    {
     "data": {
      "text/plain": [
       "300"
      ]
     },
     "execution_count": 3,
     "metadata": {},
     "output_type": "execute_result"
    }
   ],
   "source": [
    "%%time\n",
    "GLOVE_MODEL = _load_glove_model(File=\"../models/glove_840B/glove.840B.300d.txt\")\n",
    "len(GLOVE_MODEL.get(\"move\", None))"
   ]
  },
  {
   "cell_type": "code",
   "execution_count": 4,
   "metadata": {},
   "outputs": [
    {
     "name": "stdout",
     "output_type": "stream",
     "text": [
      "Loading Glove Model\n",
      "1193513  words loaded!\n",
      "Wall time: 25.1 s\n"
     ]
    },
    {
     "data": {
      "text/plain": [
       "25"
      ]
     },
     "execution_count": 4,
     "metadata": {},
     "output_type": "execute_result"
    }
   ],
   "source": [
    "%%time\n",
    "GLOVE_MODEL = _load_glove_model(File=\"../models/glove_twitter_27B/glove.twitter.27B.25d.txt\")\n",
    "len(GLOVE_MODEL.get(\"move\", None))"
   ]
  },
  {
   "cell_type": "code",
   "execution_count": 5,
   "metadata": {},
   "outputs": [
    {
     "name": "stdout",
     "output_type": "stream",
     "text": [
      "Loading Glove Model\n",
      "1193513  words loaded!\n",
      "Wall time: 31.4 s\n"
     ]
    },
    {
     "data": {
      "text/plain": [
       "50"
      ]
     },
     "execution_count": 5,
     "metadata": {},
     "output_type": "execute_result"
    }
   ],
   "source": [
    "%%time\n",
    "GLOVE_MODEL = _load_glove_model(File=\"../models/glove_twitter_27B/glove.twitter.27B.50d.txt\")\n",
    "len(GLOVE_MODEL.get(\"move\", None))"
   ]
  },
  {
   "cell_type": "code",
   "execution_count": 6,
   "metadata": {},
   "outputs": [
    {
     "name": "stdout",
     "output_type": "stream",
     "text": [
      "Loading Glove Model\n",
      "1193513  words loaded!\n",
      "Wall time: 41.9 s\n"
     ]
    },
    {
     "data": {
      "text/plain": [
       "100"
      ]
     },
     "execution_count": 6,
     "metadata": {},
     "output_type": "execute_result"
    }
   ],
   "source": [
    "%%time\n",
    "GLOVE_MODEL = _load_glove_model(File=\"../models/glove_twitter_27B/glove.twitter.27B.100d.txt\")\n",
    "len(GLOVE_MODEL.get(\"move\", None))"
   ]
  },
  {
   "cell_type": "code",
   "execution_count": 7,
   "metadata": {},
   "outputs": [
    {
     "name": "stdout",
     "output_type": "stream",
     "text": [
      "Loading Glove Model\n",
      "1193513  words loaded!\n",
      "Wall time: 1min 14s\n"
     ]
    },
    {
     "data": {
      "text/plain": [
       "200"
      ]
     },
     "execution_count": 7,
     "metadata": {},
     "output_type": "execute_result"
    }
   ],
   "source": [
    "%%time\n",
    "GLOVE_MODEL = _load_glove_model(File=\"../models/glove_twitter_27B/glove.twitter.27B.200d.txt\")\n",
    "len(GLOVE_MODEL.get(\"move\", None))"
   ]
  },
  {
   "cell_type": "code",
   "execution_count": 8,
   "metadata": {},
   "outputs": [],
   "source": [
    "import torch\n",
    "from torch.autograd import Variable\n",
    "\n",
    "DATA_PATH = '../data/'\n",
    "df = pd.read_csv(f'{DATA_PATH}final_data.csv')\n",
    "\n",
    "\n",
    "def _get_word_embeddings(word):\n",
    "    return GLOVE_MODEL.get(word, None)\n",
    "\n",
    "df['GLOVE'] = df[\"actual_words\"].apply(_get_word_embeddings)\n",
    "df.dropna(inplace=True)\n",
    "\n",
    "x_data = df.loc[:, df.columns == 'GLOVE']\n",
    "y_data = df.loc[:, df.columns == 'move']\n",
    "\n",
    "# determine the supported device\n",
    "def get_device():\n",
    "    if torch.cuda.is_available():\n",
    "        device = torch.device('cuda:0')\n",
    "    else:\n",
    "        device = torch.device('cpu') # don't have GPU \n",
    "    return device\n",
    "\n",
    "# convert a df to tensor to be used in pytorch\n",
    "def df_to_tensor(s_df):\n",
    "    device = get_device()\n",
    "    return Variable(torch.Tensor(s_df.values)).to(device)\n",
    "\n",
    "def complex_df_to_tensor(_df):\n",
    "    device = get_device()\n",
    "    temp_x = []\n",
    "    for index, row in _df.iterrows():\n",
    "        temp_row = []\n",
    "        row = row.to_dict()\n",
    "        g_em = []\n",
    "        for key in row.keys():\n",
    "            if key != 'GLOVE':\n",
    "                temp_row.append(row[key])\n",
    "            else:\n",
    "                g_em = Variable(torch.Tensor(row[key])).to(device)\n",
    "        temp_x.append(torch.cat([\n",
    "            Variable(torch.Tensor(temp_row)).to(device), \n",
    "            g_em]\n",
    "            ,dim=0))\n",
    "\n",
    "    return torch.stack(temp_x, 0)\n",
    "\n",
    "y_data = df_to_tensor(y_data)\n",
    "x_data = complex_df_to_tensor(x_data)"
   ]
  },
  {
   "cell_type": "code",
   "execution_count": 9,
   "metadata": {},
   "outputs": [],
   "source": [
    "class SingleLayeredNN(torch.nn.Module):\n",
    "    def __init__(self, input_size, hidden_size):\n",
    "        super(SingleLayeredNN, self).__init__()\n",
    "        self.input_size = input_size\n",
    "        self.hidden_size = hidden_size\n",
    "        self.fc1 = torch.nn.Linear(self.input_size, self.hidden_size)\n",
    "        self.relu = torch.nn.ReLU()\n",
    "        self.fc2 = torch.nn.Linear(self.hidden_size, 1)\n",
    "        self.sigmoid = torch.nn.Sigmoid()\n",
    "\n",
    "    def forward(self, x):\n",
    "        hidden = self.fc1(x)\n",
    "        relu = self.relu(hidden)\n",
    "        output = self.fc2(relu)\n",
    "        output = self.sigmoid(output)\n",
    "        return output\n"
   ]
  },
  {
   "cell_type": "code",
   "execution_count": 10,
   "metadata": {},
   "outputs": [],
   "source": [
    "model = SingleLayeredNN(200, 200)\n",
    "criterion = torch.nn.BCELoss() # torch.nn.CrossEntropyLoss()\n",
    "optimizer = torch.optim.Adam(model.parameters(), lr=0.0001)"
   ]
  },
  {
   "cell_type": "code",
   "execution_count": 11,
   "metadata": {},
   "outputs": [],
   "source": [
    "model.cuda()\n",
    "\n",
    "device = get_device()\n",
    "\n",
    "train_loss = []\n",
    "for epoch in range(5000):\n",
    "    model.train()\n",
    "    # Forward pass\n",
    "    y_pred = model(x_data)\n",
    "     # Compute Loss\n",
    "    loss = criterion(y_pred, y_data)\n",
    "    \n",
    "    train_loss.append(loss.item())\n",
    "    \n",
    "    optimizer.zero_grad()\n",
    "    # Backward pass\n",
    "    loss.backward()\n",
    "    optimizer.step()"
   ]
  },
  {
   "cell_type": "code",
   "execution_count": 12,
   "metadata": {},
   "outputs": [
    {
     "data": {
      "text/plain": [
       "1.0"
      ]
     },
     "execution_count": 12,
     "metadata": {},
     "output_type": "execute_result"
    }
   ],
   "source": [
    "from sklearn.metrics import accuracy_score\n",
    "\n",
    "y_pred = model(x_data)\n",
    "y_data = y_data.cpu().detach().numpy() \n",
    "x_data = x_data.cpu().detach().numpy() \n",
    "y_pred = y_pred.cpu().detach().numpy() \n",
    "\n",
    "y_pred_labels = []\n",
    "for p in y_pred:\n",
    "    if p < 0.5:\n",
    "        label = 0\n",
    "    else:\n",
    "        label = 1\n",
    "    y_pred_labels.append(label)\n",
    "    \n",
    "accuracy_score(y_data, y_pred_labels)"
   ]
  },
  {
   "cell_type": "code",
   "execution_count": null,
   "metadata": {},
   "outputs": [],
   "source": []
  }
 ],
 "metadata": {
  "kernelspec": {
   "display_name": "Python 3",
   "language": "python",
   "name": "python3"
  },
  "language_info": {
   "codemirror_mode": {
    "name": "ipython",
    "version": 3
   },
   "file_extension": ".py",
   "mimetype": "text/x-python",
   "name": "python",
   "nbconvert_exporter": "python",
   "pygments_lexer": "ipython3",
   "version": "3.8.5"
  }
 },
 "nbformat": 4,
 "nbformat_minor": 4
}
