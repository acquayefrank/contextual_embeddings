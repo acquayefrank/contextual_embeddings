{
 "cells": [
  {
   "cell_type": "code",
   "execution_count": 1,
   "metadata": {},
   "outputs": [],
   "source": [
    "import sys\n",
    "import os\n",
    "\n",
    "PACKAGE_PARENT = '..'\n",
    "SCRIPT_DIR = os.path.dirname(os.path.realpath(os.path.join(os.getcwd(), os.path.expanduser('__file__'))))\n",
    "sys.path.append(os.path.normpath(os.path.join(SCRIPT_DIR, PACKAGE_PARENT)))"
   ]
  },
  {
   "cell_type": "code",
   "execution_count": 2,
   "metadata": {},
   "outputs": [],
   "source": [
    "from evaluation import EVALUATION_ROOT"
   ]
  },
  {
   "cell_type": "code",
   "execution_count": 3,
   "metadata": {},
   "outputs": [],
   "source": [
    "import os\n",
    "import glob\n",
    "import pandas as pd"
   ]
  },
  {
   "cell_type": "code",
   "execution_count": 4,
   "metadata": {},
   "outputs": [],
   "source": [
    "extension = 'csv'\n",
    "folder_name = \"4m-oYYqjRvqVvyu2ryjmSw_cross_validation\"\n",
    "all_csv_files = [i for i in glob.glob(f'{EVALUATION_ROOT}/{folder_name}/*.{extension}')]"
   ]
  },
  {
   "cell_type": "code",
   "execution_count": 5,
   "metadata": {},
   "outputs": [],
   "source": [
    "all_tmp_df = []\n",
    "for f in all_csv_files:\n",
    "    tmp_df = pd.read_csv(f)\n",
    "    tmp_df[\"meta_data\"] = f.split(\"\\\\\")[-1]\n",
    "    all_tmp_df.append(tmp_df)"
   ]
  },
  {
   "cell_type": "code",
   "execution_count": 6,
   "metadata": {},
   "outputs": [],
   "source": [
    "df = pd.concat(all_tmp_df)"
   ]
  },
  {
   "cell_type": "code",
   "execution_count": 12,
   "metadata": {},
   "outputs": [
    {
     "data": {
      "text/html": [
       "<div>\n",
       "<style scoped>\n",
       "    .dataframe tbody tr th:only-of-type {\n",
       "        vertical-align: middle;\n",
       "    }\n",
       "\n",
       "    .dataframe tbody tr th {\n",
       "        vertical-align: top;\n",
       "    }\n",
       "\n",
       "    .dataframe thead th {\n",
       "        text-align: right;\n",
       "    }\n",
       "</style>\n",
       "<table border=\"1\" class=\"dataframe\">\n",
       "  <thead>\n",
       "    <tr style=\"text-align: right;\">\n",
       "      <th></th>\n",
       "      <th>Training Scenario</th>\n",
       "      <th>Accuracy</th>\n",
       "      <th>AUC</th>\n",
       "      <th>Model Name</th>\n",
       "      <th>meta_data</th>\n",
       "    </tr>\n",
       "  </thead>\n",
       "  <tbody>\n",
       "    <tr>\n",
       "      <th>0</th>\n",
       "      <td>activity</td>\n",
       "      <td>0.9575</td>\n",
       "      <td>0.846354</td>\n",
       "      <td>LogisticRegression</td>\n",
       "      <td>activity_FASTTEXT_CRAWL_SUB_LogisticRegression...</td>\n",
       "    </tr>\n",
       "    <tr>\n",
       "      <th>0</th>\n",
       "      <td>activity</td>\n",
       "      <td>0.9400</td>\n",
       "      <td>0.891708</td>\n",
       "      <td>LogisticRegression</td>\n",
       "      <td>activity_FASTTEXT_CRAWL_SUB_LogisticRegression...</td>\n",
       "    </tr>\n",
       "    <tr>\n",
       "      <th>0</th>\n",
       "      <td>activity</td>\n",
       "      <td>0.9575</td>\n",
       "      <td>0.962875</td>\n",
       "      <td>LogisticRegression</td>\n",
       "      <td>activity_FASTTEXT_CRAWL_SUB_LogisticRegression...</td>\n",
       "    </tr>\n",
       "    <tr>\n",
       "      <th>0</th>\n",
       "      <td>activity</td>\n",
       "      <td>0.9650</td>\n",
       "      <td>0.860087</td>\n",
       "      <td>LogisticRegression</td>\n",
       "      <td>activity_FASTTEXT_CRAWL_SUB_LogisticRegression...</td>\n",
       "    </tr>\n",
       "    <tr>\n",
       "      <th>0</th>\n",
       "      <td>activity</td>\n",
       "      <td>0.9550</td>\n",
       "      <td>0.909562</td>\n",
       "      <td>LogisticRegression</td>\n",
       "      <td>activity_FASTTEXT_CRAWL_SUB_LogisticRegression...</td>\n",
       "    </tr>\n",
       "  </tbody>\n",
       "</table>\n",
       "</div>"
      ],
      "text/plain": [
       "  Training Scenario  Accuracy       AUC          Model Name  \\\n",
       "0          activity    0.9575  0.846354  LogisticRegression   \n",
       "0          activity    0.9400  0.891708  LogisticRegression   \n",
       "0          activity    0.9575  0.962875  LogisticRegression   \n",
       "0          activity    0.9650  0.860087  LogisticRegression   \n",
       "0          activity    0.9550  0.909562  LogisticRegression   \n",
       "\n",
       "                                           meta_data  \n",
       "0  activity_FASTTEXT_CRAWL_SUB_LogisticRegression...  \n",
       "0  activity_FASTTEXT_CRAWL_SUB_LogisticRegression...  \n",
       "0  activity_FASTTEXT_CRAWL_SUB_LogisticRegression...  \n",
       "0  activity_FASTTEXT_CRAWL_SUB_LogisticRegression...  \n",
       "0  activity_FASTTEXT_CRAWL_SUB_LogisticRegression...  "
      ]
     },
     "execution_count": 12,
     "metadata": {},
     "output_type": "execute_result"
    }
   ],
   "source": [
    "df.head()"
   ]
  },
  {
   "cell_type": "code",
   "execution_count": 22,
   "metadata": {},
   "outputs": [],
   "source": [
    "df['Embedding'] = df.apply(lambda row: \"_\".join(row.meta_data.split(\"_\")[1:-2]), axis = 1)"
   ]
  },
  {
   "cell_type": "code",
   "execution_count": 23,
   "metadata": {},
   "outputs": [
    {
     "data": {
      "text/html": [
       "<div>\n",
       "<style scoped>\n",
       "    .dataframe tbody tr th:only-of-type {\n",
       "        vertical-align: middle;\n",
       "    }\n",
       "\n",
       "    .dataframe tbody tr th {\n",
       "        vertical-align: top;\n",
       "    }\n",
       "\n",
       "    .dataframe thead th {\n",
       "        text-align: right;\n",
       "    }\n",
       "</style>\n",
       "<table border=\"1\" class=\"dataframe\">\n",
       "  <thead>\n",
       "    <tr style=\"text-align: right;\">\n",
       "      <th></th>\n",
       "      <th>Training Scenario</th>\n",
       "      <th>Accuracy</th>\n",
       "      <th>AUC</th>\n",
       "      <th>Model Name</th>\n",
       "      <th>meta_data</th>\n",
       "      <th>Embedding</th>\n",
       "    </tr>\n",
       "  </thead>\n",
       "  <tbody>\n",
       "    <tr>\n",
       "      <th>0</th>\n",
       "      <td>activity</td>\n",
       "      <td>0.9575</td>\n",
       "      <td>0.846354</td>\n",
       "      <td>LogisticRegression</td>\n",
       "      <td>activity_FASTTEXT_CRAWL_SUB_LogisticRegression...</td>\n",
       "      <td>FASTTEXT_CRAWL_SUB</td>\n",
       "    </tr>\n",
       "    <tr>\n",
       "      <th>0</th>\n",
       "      <td>activity</td>\n",
       "      <td>0.9400</td>\n",
       "      <td>0.891708</td>\n",
       "      <td>LogisticRegression</td>\n",
       "      <td>activity_FASTTEXT_CRAWL_SUB_LogisticRegression...</td>\n",
       "      <td>FASTTEXT_CRAWL_SUB</td>\n",
       "    </tr>\n",
       "    <tr>\n",
       "      <th>0</th>\n",
       "      <td>activity</td>\n",
       "      <td>0.9575</td>\n",
       "      <td>0.962875</td>\n",
       "      <td>LogisticRegression</td>\n",
       "      <td>activity_FASTTEXT_CRAWL_SUB_LogisticRegression...</td>\n",
       "      <td>FASTTEXT_CRAWL_SUB</td>\n",
       "    </tr>\n",
       "    <tr>\n",
       "      <th>0</th>\n",
       "      <td>activity</td>\n",
       "      <td>0.9650</td>\n",
       "      <td>0.860087</td>\n",
       "      <td>LogisticRegression</td>\n",
       "      <td>activity_FASTTEXT_CRAWL_SUB_LogisticRegression...</td>\n",
       "      <td>FASTTEXT_CRAWL_SUB</td>\n",
       "    </tr>\n",
       "    <tr>\n",
       "      <th>0</th>\n",
       "      <td>activity</td>\n",
       "      <td>0.9550</td>\n",
       "      <td>0.909562</td>\n",
       "      <td>LogisticRegression</td>\n",
       "      <td>activity_FASTTEXT_CRAWL_SUB_LogisticRegression...</td>\n",
       "      <td>FASTTEXT_CRAWL_SUB</td>\n",
       "    </tr>\n",
       "  </tbody>\n",
       "</table>\n",
       "</div>"
      ],
      "text/plain": [
       "  Training Scenario  Accuracy       AUC          Model Name  \\\n",
       "0          activity    0.9575  0.846354  LogisticRegression   \n",
       "0          activity    0.9400  0.891708  LogisticRegression   \n",
       "0          activity    0.9575  0.962875  LogisticRegression   \n",
       "0          activity    0.9650  0.860087  LogisticRegression   \n",
       "0          activity    0.9550  0.909562  LogisticRegression   \n",
       "\n",
       "                                           meta_data           Embedding  \n",
       "0  activity_FASTTEXT_CRAWL_SUB_LogisticRegression...  FASTTEXT_CRAWL_SUB  \n",
       "0  activity_FASTTEXT_CRAWL_SUB_LogisticRegression...  FASTTEXT_CRAWL_SUB  \n",
       "0  activity_FASTTEXT_CRAWL_SUB_LogisticRegression...  FASTTEXT_CRAWL_SUB  \n",
       "0  activity_FASTTEXT_CRAWL_SUB_LogisticRegression...  FASTTEXT_CRAWL_SUB  \n",
       "0  activity_FASTTEXT_CRAWL_SUB_LogisticRegression...  FASTTEXT_CRAWL_SUB  "
      ]
     },
     "execution_count": 23,
     "metadata": {},
     "output_type": "execute_result"
    }
   ],
   "source": [
    "df.head()"
   ]
  },
  {
   "cell_type": "code",
   "execution_count": null,
   "metadata": {},
   "outputs": [],
   "source": []
  }
 ],
 "metadata": {
  "kernelspec": {
   "display_name": "Python 3",
   "language": "python",
   "name": "python3"
  },
  "language_info": {
   "codemirror_mode": {
    "name": "ipython",
    "version": 3
   },
   "file_extension": ".py",
   "mimetype": "text/x-python",
   "name": "python",
   "nbconvert_exporter": "python",
   "pygments_lexer": "ipython3",
   "version": "3.8.5"
  }
 },
 "nbformat": 4,
 "nbformat_minor": 4
}
