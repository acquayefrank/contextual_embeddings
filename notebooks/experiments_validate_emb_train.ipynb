{
 "cells": [
  {
   "cell_type": "code",
   "execution_count": 1,
   "metadata": {},
   "outputs": [],
   "source": [
    "import sys\n",
    "import os\n",
    "\n",
    "PACKAGE_PARENT = '..'\n",
    "SCRIPT_DIR = os.path.dirname(os.path.realpath(os.path.join(os.getcwd(), os.path.expanduser('__file__'))))\n",
    "sys.path.append(os.path.normpath(os.path.join(SCRIPT_DIR, PACKAGE_PARENT)))"
   ]
  },
  {
   "cell_type": "code",
   "execution_count": 3,
   "metadata": {},
   "outputs": [],
   "source": [
    "from src.utils import _load_word_embedding_model, embeddings"
   ]
  },
  {
   "cell_type": "code",
   "execution_count": null,
   "metadata": {},
   "outputs": [
    {
     "name": "stdout",
     "output_type": "stream",
     "text": [
      "GLOVE_6B_50D  :being processed  0  :embedding count\n",
      "Loading Model\n",
      "399998  words loaded!\n",
      "GLOVE_6B_100D  :being processed  1  :embedding count\n",
      "Loading Model\n",
      "399998  words loaded!\n",
      "GLOVE_6B_200D  :being processed  2  :embedding count\n",
      "Loading Model\n",
      "399998  words loaded!\n",
      "GLOVE_6B_300D  :being processed  3  :embedding count\n",
      "Loading Model\n",
      "399998  words loaded!\n",
      "GLOVE_42B_300D  :being processed  4  :embedding count\n",
      "Loading Model\n",
      "1917492  words loaded!\n",
      "GLOVE_840B_300D  :being processed  5  :embedding count\n",
      "Loading Model\n",
      "2196009  words loaded!\n",
      "GLOVE_TWITTER_27B_25D  :being processed  6  :embedding count\n",
      "Loading Model\n",
      "1193513  words loaded!\n",
      "GLOVE_TWITTER_27B_50D  :being processed  7  :embedding count\n",
      "Loading Model\n",
      "1193513  words loaded!\n",
      "GLOVE_TWITTER_27B_100D  :being processed  8  :embedding count\n",
      "Loading Model\n",
      "1193513  words loaded!\n",
      "GLOVE_TWITTER_27B_200D  :being processed  9  :embedding count\n",
      "Loading Model\n",
      "1193513  words loaded!\n",
      "WORD2VEC_GOOGLE_NEWS_300D  :being processed  10  :embedding count\n",
      "Loading Model\n",
      "FASTTEXT_CRAWL_SUB  :being processed  11  :embedding count\n",
      "Loading Model\n",
      "FASTTEXT_CRAWL_VEC_300D  :being processed  12  :embedding count\n",
      "Loading Model\n"
     ]
    }
   ],
   "source": [
    "unprocessed_words = []\n",
    "for index, embedding in enumerate(embeddings):\n",
    "    print(embedding, \" :being processed \", index, \" :embedding count\")\n",
    "    file_path, num_features, word_embedding_type = embeddings.get(embedding)\n",
    "    model = _load_word_embedding_model(\n",
    "        file=file_path, word_embedding_type=word_embedding_type\n",
    "    )\n",
    "\n",
    "    if word_embedding_type in [\"word2vec\", \"fasttext\"]:\n",
    "        keys = set(str(key).lower() for key in model.vocab.keys())\n",
    "    elif word_embedding_type == \"glove\":\n",
    "        keys = set(str(key).lower() for key in model.keys())\n",
    "    else:\n",
    "        keys = set()\n",
    "\n",
    "    unprocessed_words.append((keys, embedding))"
   ]
  },
  {
   "cell_type": "code",
   "execution_count": null,
   "metadata": {},
   "outputs": [],
   "source": [
    "from data import DATA_ROOT as DATA_PATH\n",
    "\n",
    "with open(f\"{DATA_PATH}/corncob_lowercase.txt\", \"r\") as reader:\n",
    "    content = reader.readlines()\n",
    "    content = [line.strip() for line in content]"
   ]
  },
  {
   "cell_type": "code",
   "execution_count": null,
   "metadata": {},
   "outputs": [],
   "source": [
    "for words in unprocessed_words:\n",
    "    print(f\"The number of words that are common between {words[1]} and common english words are: {len(set.intersection(set(words[0]), set(content)))}\")"
   ]
  },
  {
   "cell_type": "code",
   "execution_count": null,
   "metadata": {},
   "outputs": [],
   "source": [
    "_words = set.intersection({words[0] for words in unprocessed_words})\n",
    "\n",
    "\n",
    "print(f\"The number of words that are common between the intersection of word embeddings and common english words are: {len(set.intersection(_words, set(content)))}\")"
   ]
  },
  {
   "cell_type": "code",
   "execution_count": null,
   "metadata": {},
   "outputs": [],
   "source": []
  }
 ],
 "metadata": {
  "kernelspec": {
   "display_name": "Python 3",
   "language": "python",
   "name": "python3"
  },
  "language_info": {
   "codemirror_mode": {
    "name": "ipython",
    "version": 3
   },
   "file_extension": ".py",
   "mimetype": "text/x-python",
   "name": "python",
   "nbconvert_exporter": "python",
   "pygments_lexer": "ipython3",
   "version": "3.8.5"
  }
 },
 "nbformat": 4,
 "nbformat_minor": 4
}
