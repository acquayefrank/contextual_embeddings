{
 "cells": [
  {
   "cell_type": "code",
   "execution_count": 1,
   "metadata": {},
   "outputs": [],
   "source": [
    "import sys\n",
    "import os\n",
    "\n",
    "PACKAGE_PARENT = '..'\n",
    "SCRIPT_DIR = os.path.dirname(os.path.realpath(os.path.join(os.getcwd(), os.path.expanduser('__file__'))))\n",
    "sys.path.append(os.path.normpath(os.path.join(SCRIPT_DIR, PACKAGE_PARENT)))"
   ]
  },
  {
   "cell_type": "code",
   "execution_count": 2,
   "metadata": {},
   "outputs": [],
   "source": [
    "from data import DATA_ROOT"
   ]
  },
  {
   "cell_type": "code",
   "execution_count": 3,
   "metadata": {},
   "outputs": [],
   "source": [
    "def jaccard_similarity(list1, list2):\n",
    "    s1 = set(list1)\n",
    "    s2 = set(list2)\n",
    "    intersection = len(s1.intersection(s2))\n",
    "    union = len(s1.union(s2))\n",
    "    return intersection / union"
   ]
  },
  {
   "cell_type": "code",
   "execution_count": 4,
   "metadata": {},
   "outputs": [],
   "source": [
    "def jaccard_distance(list1, list2):\n",
    "    return 1 - jaccard_similarity(list1, list2)"
   ]
  },
  {
   "cell_type": "markdown",
   "metadata": {},
   "source": [
    "# The following code works with the assumption that \"said\" files exist"
   ]
  },
  {
   "cell_type": "code",
   "execution_count": 5,
   "metadata": {},
   "outputs": [],
   "source": [
    "import pandas as pd\n",
    "\n",
    "common_words_training_data = f\"{DATA_ROOT}/4m-oYYqjRvqVvyu2ryjmSw_common_words_100_final_data.csv\"\n",
    "\n",
    "df = pd.read_csv(common_words_training_data)"
   ]
  },
  {
   "cell_type": "code",
   "execution_count": 6,
   "metadata": {},
   "outputs": [
    {
     "data": {
      "text/html": [
       "<div>\n",
       "<style scoped>\n",
       "    .dataframe tbody tr th:only-of-type {\n",
       "        vertical-align: middle;\n",
       "    }\n",
       "\n",
       "    .dataframe tbody tr th {\n",
       "        vertical-align: top;\n",
       "    }\n",
       "\n",
       "    .dataframe thead th {\n",
       "        text-align: right;\n",
       "    }\n",
       "</style>\n",
       "<table border=\"1\" class=\"dataframe\">\n",
       "  <thead>\n",
       "    <tr style=\"text-align: right;\">\n",
       "      <th></th>\n",
       "      <th>actual_words</th>\n",
       "      <th>act</th>\n",
       "      <th>activity</th>\n",
       "      <th>alter</th>\n",
       "      <th>assemblage</th>\n",
       "      <th>be</th>\n",
       "      <th>change</th>\n",
       "      <th>cover</th>\n",
       "      <th>form</th>\n",
       "      <th>give</th>\n",
       "      <th>...</th>\n",
       "      <th>POS_TAG_ADV</th>\n",
       "      <th>POS_TAG_AUX</th>\n",
       "      <th>POS_TAG_CCONJ</th>\n",
       "      <th>POS_TAG_INTJ</th>\n",
       "      <th>POS_TAG_NOUN</th>\n",
       "      <th>POS_TAG_NUM</th>\n",
       "      <th>POS_TAG_PROPN</th>\n",
       "      <th>POS_TAG_SCONJ</th>\n",
       "      <th>POS_TAG_VERB</th>\n",
       "      <th>POS_TAG_X</th>\n",
       "    </tr>\n",
       "  </thead>\n",
       "  <tbody>\n",
       "    <tr>\n",
       "      <th>0</th>\n",
       "      <td>abbreviation</td>\n",
       "      <td>0</td>\n",
       "      <td>0</td>\n",
       "      <td>0</td>\n",
       "      <td>0</td>\n",
       "      <td>0</td>\n",
       "      <td>0</td>\n",
       "      <td>0</td>\n",
       "      <td>1</td>\n",
       "      <td>0</td>\n",
       "      <td>...</td>\n",
       "      <td>0</td>\n",
       "      <td>0</td>\n",
       "      <td>0</td>\n",
       "      <td>0</td>\n",
       "      <td>1</td>\n",
       "      <td>0</td>\n",
       "      <td>0</td>\n",
       "      <td>0</td>\n",
       "      <td>0</td>\n",
       "      <td>0</td>\n",
       "    </tr>\n",
       "    <tr>\n",
       "      <th>1</th>\n",
       "      <td>ablate</td>\n",
       "      <td>0</td>\n",
       "      <td>0</td>\n",
       "      <td>0</td>\n",
       "      <td>0</td>\n",
       "      <td>0</td>\n",
       "      <td>0</td>\n",
       "      <td>0</td>\n",
       "      <td>0</td>\n",
       "      <td>0</td>\n",
       "      <td>...</td>\n",
       "      <td>0</td>\n",
       "      <td>0</td>\n",
       "      <td>0</td>\n",
       "      <td>0</td>\n",
       "      <td>0</td>\n",
       "      <td>0</td>\n",
       "      <td>1</td>\n",
       "      <td>0</td>\n",
       "      <td>0</td>\n",
       "      <td>0</td>\n",
       "    </tr>\n",
       "    <tr>\n",
       "      <th>2</th>\n",
       "      <td>abduction</td>\n",
       "      <td>0</td>\n",
       "      <td>0</td>\n",
       "      <td>0</td>\n",
       "      <td>0</td>\n",
       "      <td>0</td>\n",
       "      <td>0</td>\n",
       "      <td>0</td>\n",
       "      <td>0</td>\n",
       "      <td>0</td>\n",
       "      <td>...</td>\n",
       "      <td>0</td>\n",
       "      <td>0</td>\n",
       "      <td>0</td>\n",
       "      <td>0</td>\n",
       "      <td>1</td>\n",
       "      <td>0</td>\n",
       "      <td>0</td>\n",
       "      <td>0</td>\n",
       "      <td>0</td>\n",
       "      <td>0</td>\n",
       "    </tr>\n",
       "    <tr>\n",
       "      <th>3</th>\n",
       "      <td>ability</td>\n",
       "      <td>0</td>\n",
       "      <td>0</td>\n",
       "      <td>0</td>\n",
       "      <td>0</td>\n",
       "      <td>0</td>\n",
       "      <td>0</td>\n",
       "      <td>0</td>\n",
       "      <td>0</td>\n",
       "      <td>0</td>\n",
       "      <td>...</td>\n",
       "      <td>0</td>\n",
       "      <td>0</td>\n",
       "      <td>0</td>\n",
       "      <td>0</td>\n",
       "      <td>1</td>\n",
       "      <td>0</td>\n",
       "      <td>0</td>\n",
       "      <td>0</td>\n",
       "      <td>0</td>\n",
       "      <td>0</td>\n",
       "    </tr>\n",
       "    <tr>\n",
       "      <th>4</th>\n",
       "      <td>abound</td>\n",
       "      <td>0</td>\n",
       "      <td>0</td>\n",
       "      <td>0</td>\n",
       "      <td>0</td>\n",
       "      <td>1</td>\n",
       "      <td>0</td>\n",
       "      <td>0</td>\n",
       "      <td>0</td>\n",
       "      <td>0</td>\n",
       "      <td>...</td>\n",
       "      <td>0</td>\n",
       "      <td>0</td>\n",
       "      <td>0</td>\n",
       "      <td>0</td>\n",
       "      <td>0</td>\n",
       "      <td>0</td>\n",
       "      <td>1</td>\n",
       "      <td>0</td>\n",
       "      <td>0</td>\n",
       "      <td>0</td>\n",
       "    </tr>\n",
       "  </tbody>\n",
       "</table>\n",
       "<p>5 rows × 56 columns</p>\n",
       "</div>"
      ],
      "text/plain": [
       "   actual_words  act  activity  alter  assemblage  be  change  cover  form  \\\n",
       "0  abbreviation    0         0      0           0   0       0      0     1   \n",
       "1        ablate    0         0      0           0   0       0      0     0   \n",
       "2     abduction    0         0      0           0   0       0      0     0   \n",
       "3       ability    0         0      0           0   0       0      0     0   \n",
       "4        abound    0         0      0           0   1       0      0     0   \n",
       "\n",
       "   give  ...  POS_TAG_ADV  POS_TAG_AUX  POS_TAG_CCONJ  POS_TAG_INTJ  \\\n",
       "0     0  ...            0            0              0             0   \n",
       "1     0  ...            0            0              0             0   \n",
       "2     0  ...            0            0              0             0   \n",
       "3     0  ...            0            0              0             0   \n",
       "4     0  ...            0            0              0             0   \n",
       "\n",
       "   POS_TAG_NOUN  POS_TAG_NUM  POS_TAG_PROPN  POS_TAG_SCONJ  POS_TAG_VERB  \\\n",
       "0             1            0              0              0             0   \n",
       "1             0            0              1              0             0   \n",
       "2             1            0              0              0             0   \n",
       "3             1            0              0              0             0   \n",
       "4             0            0              1              0             0   \n",
       "\n",
       "   POS_TAG_X  \n",
       "0          0  \n",
       "1          0  \n",
       "2          0  \n",
       "3          0  \n",
       "4          0  \n",
       "\n",
       "[5 rows x 56 columns]"
      ]
     },
     "execution_count": 6,
     "metadata": {},
     "output_type": "execute_result"
    }
   ],
   "source": [
    "df.head()"
   ]
  },
  {
   "cell_type": "code",
   "execution_count": 7,
   "metadata": {},
   "outputs": [],
   "source": [
    "motion =  [row.actual_words for _, row in df.iterrows() if int(row.motion) == 1]"
   ]
  },
  {
   "cell_type": "code",
   "execution_count": 8,
   "metadata": {},
   "outputs": [],
   "source": [
    "movement = [row.actual_words for _, row in df.iterrows() if int(row.movement) == 1]"
   ]
  },
  {
   "cell_type": "code",
   "execution_count": 10,
   "metadata": {},
   "outputs": [
    {
     "data": {
      "text/plain": [
       "0.7302631578947368"
      ]
     },
     "execution_count": 10,
     "metadata": {},
     "output_type": "execute_result"
    }
   ],
   "source": [
    "jaccard_similarity(, movement)motion"
   ]
  },
  {
   "cell_type": "code",
   "execution_count": 11,
   "metadata": {},
   "outputs": [
    {
     "data": {
      "text/plain": [
       "0.26973684210526316"
      ]
     },
     "execution_count": 11,
     "metadata": {},
     "output_type": "execute_result"
    }
   ],
   "source": [
    "jaccard_distance(motion, movement)"
   ]
  },
  {
   "cell_type": "code",
   "execution_count": 36,
   "metadata": {},
   "outputs": [
    {
     "name": "stdout",
     "output_type": "stream",
     "text": [
      "['act', 'activity', 0.01, 0.99]\n",
      "['act', 'alter', 0.01, 0.99]\n",
      "['act', 'assemblage', 0.0, 1.0]\n",
      "['act', 'be', 0.03, 0.97]\n",
      "['act', 'change', 0.02, 0.98]\n",
      "['act', 'cover', 0.0, 1.0]\n",
      "['act', 'form', 0.0, 1.0]\n",
      "['act', 'give', 0.02, 0.98]\n",
      "['act', 'go', 0.03, 0.97]\n",
      "['act', 'hit', 0.0, 1.0]\n"
     ]
    }
   ],
   "source": [
    "from itertools import combinations\n",
    "\n",
    "# jaccard = [[\"word_one\", \"word_two\", \"jaccard similarity\", \"jaccard distance\"]]\n",
    "\n",
    "for index, combo in enumerate(combinations(list(df.columns)[1:], 2)):\n",
    "    if index == 10:\n",
    "        break\n",
    "    tmp_list1 = [\n",
    "        row.actual_words for _, row in df.iterrows() if int(row[combo[0]]) == 1\n",
    "    ]\n",
    "    tmp_list2 = [\n",
    "        row.actual_words for _, row in df.iterrows() if int(row[combo[1]]) == 1\n",
    "    ]\n",
    "    j_s = jaccard_similarity(tmp_list1, tmp_list2)\n",
    "    j_d = jaccard_distance(tmp_list1, tmp_list2)\n",
    "    print([combo[0], combo[1], round(j_s, 2), round(j_d, 2)])"
   ]
  },
  {
   "cell_type": "code",
   "execution_count": 37,
   "metadata": {},
   "outputs": [
    {
     "data": {
      "text/plain": [
       "['structure', 'form', 0.04, 0.96]"
      ]
     },
     "execution_count": 37,
     "metadata": {},
     "output_type": "execute_result"
    }
   ],
   "source": [
    "tmp_list1 = [\n",
    "    row.actual_words for _, row in df.iterrows() if int(row['structure']) == 1\n",
    "]\n",
    "tmp_list2 = [\n",
    "    row.actual_words for _, row in df.iterrows() if int(row['form']) == 1\n",
    "]\n",
    "j_s = jaccard_similarity(tmp_list1, tmp_list2)\n",
    "j_d = jaccard_distance(tmp_list1, tmp_list2)\n",
    "[\"structure\", \"form\", round(j_s, 2), round(j_d, 2)]"
   ]
  },
  {
   "cell_type": "code",
   "execution_count": null,
   "metadata": {},
   "outputs": [],
   "source": []
  }
 ],
 "metadata": {
  "kernelspec": {
   "display_name": "Python 3",
   "language": "python",
   "name": "python3"
  },
  "language_info": {
   "codemirror_mode": {
    "name": "ipython",
    "version": 3
   },
   "file_extension": ".py",
   "mimetype": "text/x-python",
   "name": "python",
   "nbconvert_exporter": "python",
   "pygments_lexer": "ipython3",
   "version": "3.8.5"
  }
 },
 "nbformat": 4,
 "nbformat_minor": 4
}
