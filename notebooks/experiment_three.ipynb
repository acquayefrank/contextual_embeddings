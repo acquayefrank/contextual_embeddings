{
 "cells": [
  {
   "cell_type": "markdown",
   "metadata": {},
   "source": [
    "# For a bunch of words what are their associated domains"
   ]
  },
  {
   "cell_type": "code",
   "execution_count": 1,
   "metadata": {},
   "outputs": [],
   "source": [
    "with open('../data/words.txt', 'r') as reader:\n",
    "    content = reader.readlines()\n",
    "    content = [line.strip() for line in content]"
   ]
  },
  {
   "cell_type": "code",
   "execution_count": 2,
   "metadata": {},
   "outputs": [],
   "source": [
    "import spacy\n",
    "\n",
    "from spacy_wordnet.wordnet_annotator import WordnetAnnotator \n",
    "\n",
    "# Load an spacy model (supported models are \"es\" and \"en\") \n",
    "nlp = spacy.load('en_core_web_sm')\n",
    "nlp.add_pipe(WordnetAnnotator(nlp.lang), after='tagger')\n",
    "\n",
    "words = {}\n",
    "\n",
    "for c in content:\n",
    "    token = nlp(c)[0]\n",
    "\n",
    "    # wordnet object link spacy token with nltk wordnet interface by giving acces to\n",
    "    # synsets and lemmas \n",
    "    token._.wordnet.synsets()\n",
    "    token._.wordnet.lemmas()\n",
    "\n",
    "    # And automatically tags with wordnet domains\n",
    "#     token._.wordnet.wordnet_domains()\n",
    "    words[c] = token._.wordnet.wordnet_domains()"
   ]
  },
  {
   "cell_type": "code",
   "execution_count": 3,
   "metadata": {},
   "outputs": [],
   "source": [
    "import json\n",
    "\n",
    "with open('../data/words_and_associated_domains.txt', 'w') as file:\n",
    "     file.write(json.dumps(words)) # use `json.loads` to do the reverse"
   ]
  }
 ],
 "metadata": {
  "kernelspec": {
   "display_name": "Python 3",
   "language": "python",
   "name": "python3"
  },
  "language_info": {
   "codemirror_mode": {
    "name": "ipython",
    "version": 3
   },
   "file_extension": ".py",
   "mimetype": "text/x-python",
   "name": "python",
   "nbconvert_exporter": "python",
   "pygments_lexer": "ipython3",
   "version": "3.8.5"
  }
 },
 "nbformat": 4,
 "nbformat_minor": 4
}
