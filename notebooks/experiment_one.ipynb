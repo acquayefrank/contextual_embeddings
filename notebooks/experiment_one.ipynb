{
 "cells": [
  {
   "cell_type": "markdown",
   "metadata": {},
   "source": [
    "# A collection of domains and their correponding words i.e in a given domain what are the words within it"
   ]
  },
  {
   "cell_type": "code",
   "execution_count": 1,
   "metadata": {},
   "outputs": [],
   "source": [
    "# https://stackoverflow.com/questions/21902411/how-to-get-domain-of-words-using-wordnet-in-python\n",
    "# http://wndomains.fbk.eu/\n",
    "# https://github.com/larsmans/wordnet-domains-sentiwords\n",
    "\n",
    "from collections import defaultdict\n",
    "from nltk.corpus import wordnet as wn\n",
    "\n",
    "\n",
    "# Loading the Wordnet domains.\n",
    "domain2synsets = defaultdict(list)\n",
    "synset2domains = defaultdict(list)\n",
    "for i in open('../data/wordnet-domains-sentiwords-master/wn-domains/wn-domains-3.2-20070223', 'r'):\n",
    "    ssid, doms = i.strip().split('\\t')\n",
    "    doms = doms.split()\n",
    "    synset2domains[ssid] = doms\n",
    "    for d in doms:\n",
    "        domain2synsets[d].append(ssid)\n",
    "\n",
    "        \n",
    "domains = []\n",
    "# Gets synsets given domain.        \n",
    "for dom in sorted(domain2synsets):\n",
    "    domains.append(dom)"
   ]
  },
  {
   "cell_type": "code",
   "execution_count": 2,
   "metadata": {},
   "outputs": [
    {
     "data": {
      "text/plain": [
       "'administration'"
      ]
     },
     "execution_count": 2,
     "metadata": {},
     "output_type": "execute_result"
    }
   ],
   "source": [
    "domains[1]"
   ]
  },
  {
   "cell_type": "code",
   "execution_count": 3,
   "metadata": {},
   "outputs": [],
   "source": [
    "from nltk.corpus import wordnet as wn\n",
    "\n",
    "\n",
    "domain_and_associated_words = {}\n",
    "for domain in domains:\n",
    "    words_in_domain = []\n",
    "    for number in range(5):\n",
    "        try:\n",
    "            words = wn.synset(f'{domain}.n.0{number}')\n",
    "            words_in_domain += list(set([w for s in words.closure(lambda s:s.hyponyms()) for w in s.lemma_names()]))\n",
    "        except Exception as e:\n",
    "            continue\n",
    "    domain_and_associated_words[domain] = list(set(words_in_domain))"
   ]
  },
  {
   "cell_type": "code",
   "execution_count": 4,
   "metadata": {},
   "outputs": [
    {
     "data": {
      "text/plain": [
       "['Reagan_administration',\n",
       " 'bureaucracy',\n",
       " 'executive',\n",
       " 'Curia',\n",
       " 'management',\n",
       " 'house',\n",
       " 'judiciary',\n",
       " 'Bush_administration',\n",
       " 'polity',\n",
       " 'drugging',\n",
       " 'reorganization',\n",
       " 'civil_service',\n",
       " 'county_council',\n",
       " 'organisation',\n",
       " 'syndication',\n",
       " 'organization',\n",
       " 'nonprofit_organization',\n",
       " 'government_officials',\n",
       " 'rationalization',\n",
       " 'Whitehall',\n",
       " 'not-for-profit',\n",
       " 'Carter_administration',\n",
       " 'top_brass',\n",
       " 'drip_feed',\n",
       " 'sedation',\n",
       " 'administrivia',\n",
       " 'rationalisation',\n",
       " 'nonprofit',\n",
       " 'Pentagon',\n",
       " 'line_management',\n",
       " 'Clinton_administration',\n",
       " 'officialdom',\n",
       " 'conducting',\n",
       " 'reorganisation',\n",
       " 'shakeup',\n",
       " 'bureaucratism',\n",
       " 'self-organisation',\n",
       " 'bench',\n",
       " 'self-organization',\n",
       " 'running',\n",
       " 'shake-up']"
      ]
     },
     "execution_count": 4,
     "metadata": {},
     "output_type": "execute_result"
    }
   ],
   "source": [
    "domain_and_associated_words['administration']"
   ]
  },
  {
   "cell_type": "code",
   "execution_count": null,
   "metadata": {},
   "outputs": [],
   "source": [
    "import json\n",
    "\n",
    "with open('../data/domain_and_associated_words.txt', 'w') as file:\n",
    "     file.write(json.dumps(domain_and_associated_words)) # use `json.loads` to do the reverse"
   ]
  }
 ],
 "metadata": {
  "kernelspec": {
   "display_name": "Python 3",
   "language": "python",
   "name": "python3"
  },
  "language_info": {
   "codemirror_mode": {
    "name": "ipython",
    "version": 3
   },
   "file_extension": ".py",
   "mimetype": "text/x-python",
   "name": "python",
   "nbconvert_exporter": "python",
   "pygments_lexer": "ipython3",
   "version": "3.8.5"
  }
 },
 "nbformat": 4,
 "nbformat_minor": 4
}
