{
 "cells": [
  {
   "cell_type": "markdown",
   "metadata": {},
   "source": [
    "# A collection of domains and their correponding words i.e in a given domain what are the words within it"
   ]
  },
  {
   "cell_type": "code",
   "execution_count": 1,
   "metadata": {},
   "outputs": [],
   "source": [
    "# https://stackoverflow.com/questions/21902411/how-to-get-domain-of-words-using-wordnet-in-python\n",
    "# http://wndomains.fbk.eu/\n",
    "# https://github.com/larsmans/wordnet-domains-sentiwords\n",
    "\n",
    "from collections import defaultdict\n",
    "from nltk.corpus import wordnet as wn\n",
    "\n",
    "\n",
    "# Loading the Wordnet domains.\n",
    "domain2synsets = defaultdict(list)\n",
    "synset2domains = defaultdict(list)\n",
    "for i in open('../data/wordnet-domains-sentiwords-master/wn-domains/wn-domains-3.2-20070223', 'r'):\n",
    "    ssid, doms = i.strip().split('\\t')\n",
    "    doms = doms.split()\n",
    "    synset2domains[ssid] = doms\n",
    "    for d in doms:\n",
    "        domain2synsets[d].append(ssid)\n",
    "\n",
    "        \n",
    "domains = []\n",
    "# Gets synsets given domain.        \n",
    "for dom in sorted(domain2synsets):\n",
    "    domains.append(dom)"
   ]
  },
  {
   "cell_type": "code",
   "execution_count": 2,
   "metadata": {},
   "outputs": [
    {
     "data": {
      "text/plain": [
       "'administration'"
      ]
     },
     "execution_count": 2,
     "metadata": {},
     "output_type": "execute_result"
    }
   ],
   "source": [
    "domains[1]"
   ]
  },
  {
   "cell_type": "code",
   "execution_count": 3,
   "metadata": {},
   "outputs": [],
   "source": [
    "from nltk.corpus import wordnet as wn\n",
    "\n",
    "\n",
    "domain_and_associated_words = {}\n",
    "for domain in domains:\n",
    "    words_in_domain = []\n",
    "    for number in range(5):\n",
    "        try:\n",
    "            words = wn.synset(f'{domain}.n.0{number}')\n",
    "            words_in_domain += list(set([w for s in words.closure(lambda s:s.hyponyms()) for w in s.lemma_names()]))\n",
    "        except Exception as e:\n",
    "            continue\n",
    "    domain_and_associated_words[domain] = list(set(words_in_domain))"
   ]
  },
  {
   "cell_type": "code",
   "execution_count": 1,
   "metadata": {},
   "outputs": [
    {
     "ename": "NameError",
     "evalue": "name 'domain_and_associated_words' is not defined",
     "output_type": "error",
     "traceback": [
      "\u001b[0;31m---------------------------------------------------------------------------\u001b[0m",
      "\u001b[0;31mNameError\u001b[0m                                 Traceback (most recent call last)",
      "\u001b[0;32m<ipython-input-1-ea348d3df81f>\u001b[0m in \u001b[0;36m<module>\u001b[0;34m\u001b[0m\n\u001b[0;32m----> 1\u001b[0;31m \u001b[0mdomain_and_associated_words\u001b[0m\u001b[0;34m[\u001b[0m\u001b[0;34m'sports'\u001b[0m\u001b[0;34m]\u001b[0m\u001b[0;34m\u001b[0m\u001b[0;34m\u001b[0m\u001b[0m\n\u001b[0m",
      "\u001b[0;31mNameError\u001b[0m: name 'domain_and_associated_words' is not defined"
     ]
    }
   ],
   "source": [
    "domain_and_associated_words['sports']"
   ]
  },
  {
   "cell_type": "code",
   "execution_count": null,
   "metadata": {},
   "outputs": [],
   "source": [
    "import json\n",
    "\n",
    "with open('../data/domain_and_associated_words.txt', 'w') as file:\n",
    "     file.write(json.dumps(domain_and_associated_words)) # use `json.loads` to do the reverse"
   ]
  },
  {
   "cell_type": "code",
   "execution_count": null,
   "metadata": {},
   "outputs": [],
   "source": []
  }
 ],
 "metadata": {
  "kernelspec": {
   "display_name": "Python 3",
   "language": "python",
   "name": "python3"
  },
  "language_info": {
   "codemirror_mode": {
    "name": "ipython",
    "version": 3
   },
   "file_extension": ".py",
   "mimetype": "text/x-python",
   "name": "python",
   "nbconvert_exporter": "python",
   "pygments_lexer": "ipython3",
   "version": "3.8.5"
  }
 },
 "nbformat": 4,
 "nbformat_minor": 4
}
