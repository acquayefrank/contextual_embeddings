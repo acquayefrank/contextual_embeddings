{
 "cells": [
  {
   "cell_type": "code",
   "execution_count": 1,
   "metadata": {},
   "outputs": [],
   "source": [
    "from gensim.models import KeyedVectors"
   ]
  },
  {
   "cell_type": "code",
   "execution_count": 2,
   "metadata": {},
   "outputs": [],
   "source": [
    "model = KeyedVectors.load_word2vec_format('../models/word2vec/GoogleNews-vectors-negative300.bin', binary=True)"
   ]
  },
  {
   "cell_type": "code",
   "execution_count": 3,
   "metadata": {},
   "outputs": [],
   "source": [
    "vector = model['move']"
   ]
  },
  {
   "cell_type": "code",
   "execution_count": 4,
   "metadata": {},
   "outputs": [
    {
     "data": {
      "text/plain": [
       "(300,)"
      ]
     },
     "execution_count": 4,
     "metadata": {},
     "output_type": "execute_result"
    }
   ],
   "source": [
    "vector.shape"
   ]
  },
  {
   "cell_type": "code",
   "execution_count": 5,
   "metadata": {},
   "outputs": [],
   "source": [
    "import numpy as np\n",
    "import io\n",
    "\n",
    "def load_vectors(fname):\n",
    "    fin = io.open(fname, 'r', encoding='utf-8', newline='\\n', errors='ignore')\n",
    "    n, d = map(int, fin.readline().split())\n",
    "    data = {}\n",
    "    for line in fin:\n",
    "        tokens = line.rstrip().split(' ')\n",
    "        data[tokens[0]] = np.array(list(map(float, tokens[1:])))\n",
    "    return data"
   ]
  },
  {
   "cell_type": "code",
   "execution_count": 6,
   "metadata": {},
   "outputs": [
    {
     "name": "stdout",
     "output_type": "stream",
     "text": [
      "Wall time: 0 ns\n"
     ]
    }
   ],
   "source": [
    "%time\n",
    "embedding = load_vectors('../models/fasttext/crawl-300d-2M-subword.vec')"
   ]
  },
  {
   "cell_type": "code",
   "execution_count": 7,
   "metadata": {},
   "outputs": [
    {
     "data": {
      "text/plain": [
       "array([-4.750e-02, -1.122e-01,  1.464e-01, -3.660e-02, -4.540e-02,\n",
       "       -2.900e-02,  1.147e-01, -1.160e-02, -6.410e-02,  8.600e-03,\n",
       "       -3.980e-02, -6.200e-02, -1.850e-02, -4.200e-03,  3.310e-02,\n",
       "        5.850e-02, -4.890e-02,  3.910e-02,  4.400e-02,  1.699e-01,\n",
       "        1.111e-01, -1.320e-02,  4.220e-02, -1.210e-02,  4.470e-02,\n",
       "       -2.470e-02, -3.470e-02,  5.660e-02, -3.370e-02,  2.780e-02,\n",
       "        1.499e-01, -4.740e-02, -2.700e-02,  4.110e-02,  1.390e-02,\n",
       "        3.830e-02,  3.700e-02,  7.990e-02,  5.270e-02, -6.300e-03,\n",
       "        4.900e-03, -1.072e-01,  1.400e-02, -3.010e-02, -8.280e-02,\n",
       "        1.295e-01, -9.280e-02,  4.700e-02,  6.210e-02,  1.086e-01,\n",
       "        5.600e-03,  1.300e-03,  9.160e-02,  1.800e-02, -7.590e-02,\n",
       "       -4.600e-03,  2.870e-02,  1.190e-02, -3.125e-01, -2.640e-02,\n",
       "        1.720e-02, -2.860e-02,  4.340e-02, -4.900e-03, -1.320e-02,\n",
       "        1.900e-02,  3.760e-02, -8.830e-02, -5.890e-02, -6.620e-02,\n",
       "       -6.270e-02, -7.150e-02, -1.350e-02,  2.530e-02,  6.610e-02,\n",
       "       -6.080e-02,  8.440e-02,  1.500e-03,  1.900e-02,  3.310e-02,\n",
       "        1.760e-02, -2.380e-02, -1.428e-01, -1.130e-02,  1.200e-03,\n",
       "       -1.160e-02,  1.020e-02,  6.110e-02,  1.050e-01,  7.100e-03,\n",
       "       -1.450e-02, -1.960e-02, -4.240e-02, -8.050e-02, -3.500e-02,\n",
       "        3.203e-01, -6.920e-02,  3.370e-02,  5.900e-03,  5.110e-02,\n",
       "       -8.260e-02, -6.010e-02, -2.530e-02,  5.700e-03, -1.020e-02,\n",
       "       -7.800e-03, -2.200e-03, -1.230e-02,  6.610e-02, -1.052e-01,\n",
       "        9.300e-03,  4.040e-02, -1.090e-02,  1.370e-02, -1.406e-01,\n",
       "       -8.990e-02, -6.200e-02, -1.350e-02,  3.820e-02, -2.326e-01,\n",
       "       -4.260e-02,  4.500e-03,  7.230e-02,  1.026e-01,  1.920e-02,\n",
       "        3.700e-02,  1.140e-02,  2.560e-02,  6.200e-02,  5.700e-02,\n",
       "        3.200e-02, -8.920e-02,  3.770e-02, -2.000e-04, -4.900e-03,\n",
       "       -3.120e-02,  5.740e-02, -2.900e-02, -6.000e-03, -6.200e-03,\n",
       "       -2.000e-02,  3.850e-02,  3.050e-02, -9.000e-03,  9.100e-03,\n",
       "        3.490e-02,  8.830e-02, -6.710e-02, -1.380e-02, -3.860e-02,\n",
       "        2.620e-02, -1.324e-01,  1.200e-02, -3.100e-03,  1.750e-02,\n",
       "       -2.970e-02, -3.940e-02,  2.380e-02,  1.027e-01, -2.550e-02,\n",
       "       -4.200e-02, -1.070e-02, -1.880e-02,  2.510e-02, -7.780e-02,\n",
       "        6.790e-02, -4.740e-02, -4.280e-02, -5.430e-02,  8.350e-02,\n",
       "        1.370e-02, -4.910e-02, -3.310e-02,  7.280e-02, -3.220e-02,\n",
       "        2.420e-02,  1.660e-02, -2.740e-02, -8.500e-02, -3.660e-02,\n",
       "        4.050e-02,  2.900e-03,  1.340e-02, -8.410e-02, -1.785e-01,\n",
       "       -1.080e-02,  9.780e-02,  5.660e-02,  3.310e-02,  6.700e-03,\n",
       "        5.100e-03,  4.000e-04, -4.860e-02, -1.910e-02,  2.090e-02,\n",
       "        1.100e-03,  1.595e-01, -3.600e-03, -1.410e-02, -1.700e-02,\n",
       "       -1.631e-01,  7.000e-04, -2.110e-02,  3.270e-02,  1.177e-01,\n",
       "       -4.380e-02,  2.800e-03, -8.400e-03, -4.250e-02, -1.020e-02,\n",
       "       -8.430e-02,  2.010e-02, -1.080e-01, -6.330e-02, -6.150e-02,\n",
       "       -2.000e-03,  3.980e-02, -3.660e-02, -1.715e-01, -5.440e-02,\n",
       "       -5.770e-02,  3.000e-02, -3.180e-02, -1.580e-02,  1.262e-01,\n",
       "       -6.100e-02,  3.180e-02,  1.226e-01,  7.660e-02,  5.040e-02,\n",
       "       -4.900e-02,  2.480e-02,  4.000e-04,  6.780e-02, -4.100e-02,\n",
       "        5.180e-02, -1.810e-02, -3.130e-02, -4.340e-02, -1.860e-02,\n",
       "        4.550e-02,  1.090e-02,  1.183e-01,  1.800e-02, -7.710e-02,\n",
       "        3.080e-02,  1.150e-02, -4.600e-02,  7.870e-02, -6.760e-02,\n",
       "       -6.000e-04, -5.010e-02, -2.320e-02, -3.510e-02,  7.330e-02,\n",
       "       -3.510e-02,  3.700e-03,  1.040e-01, -3.700e-03,  3.750e-02,\n",
       "        4.310e-02,  1.240e-02, -5.410e-02, -3.700e-02, -9.140e-02,\n",
       "        2.910e-02, -3.510e-02, -1.000e-03, -6.040e-02, -1.320e-02,\n",
       "       -3.730e-02, -4.000e-04, -7.890e-02, -2.790e-02,  2.180e-02,\n",
       "        4.080e-02,  3.700e-03,  4.760e-02,  1.950e-02,  4.280e-02,\n",
       "        3.880e-02,  3.020e-02,  8.840e-02, -1.250e-02, -1.810e-02,\n",
       "       -4.200e-03,  3.800e-02, -7.850e-02,  3.760e-02, -2.590e-02,\n",
       "        3.300e-03, -4.950e-02, -3.300e-03,  2.730e-02,  1.970e-02,\n",
       "        9.280e-02,  7.520e-02, -1.800e-03, -5.370e-02, -3.490e-02])"
      ]
     },
     "execution_count": 7,
     "metadata": {},
     "output_type": "execute_result"
    }
   ],
   "source": [
    "embedding.get(\"move\")"
   ]
  },
  {
   "cell_type": "code",
   "execution_count": 8,
   "metadata": {},
   "outputs": [
    {
     "name": "stdout",
     "output_type": "stream",
     "text": [
      "Wall time: 0 ns\n"
     ]
    },
    {
     "data": {
      "text/plain": [
       "(300,)"
      ]
     },
     "execution_count": 8,
     "metadata": {},
     "output_type": "execute_result"
    }
   ],
   "source": [
    "%time\n",
    "from gensim.models.fasttext import load_facebook_model\n",
    "\n",
    "model = KeyedVectors.load_word2vec_format('../models/fasttext/crawl-300d-2M-subword.vec', binary=False)\n",
    "vector = model['move']\n",
    "vector.shape"
   ]
  },
  {
   "cell_type": "code",
   "execution_count": null,
   "metadata": {},
   "outputs": [],
   "source": []
  }
 ],
 "metadata": {
  "kernelspec": {
   "display_name": "Python 3",
   "language": "python",
   "name": "python3"
  },
  "language_info": {
   "codemirror_mode": {
    "name": "ipython",
    "version": 3
   },
   "file_extension": ".py",
   "mimetype": "text/x-python",
   "name": "python",
   "nbconvert_exporter": "python",
   "pygments_lexer": "ipython3",
   "version": "3.8.5"
  }
 },
 "nbformat": 4,
 "nbformat_minor": 4
}
