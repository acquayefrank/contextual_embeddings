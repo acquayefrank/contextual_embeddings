{
 "cells": [
  {
   "cell_type": "code",
   "execution_count": 1,
   "id": "alert-invitation",
   "metadata": {},
   "outputs": [],
   "source": [
    "import sys\n",
    "import os\n",
    "\n",
    "PACKAGE_PARENT = '..'\n",
    "SCRIPT_DIR = os.path.dirname(os.path.realpath(os.path.join(os.getcwd(), os.path.expanduser('__file__'))))\n",
    "sys.path.append(os.path.normpath(os.path.join(SCRIPT_DIR, PACKAGE_PARENT)))"
   ]
  },
  {
   "cell_type": "code",
   "execution_count": 2,
   "id": "supported-court",
   "metadata": {},
   "outputs": [],
   "source": [
    "from data import DATA_ROOT as DATA_PATH"
   ]
  },
  {
   "cell_type": "code",
   "execution_count": 3,
   "id": "economic-excellence",
   "metadata": {},
   "outputs": [],
   "source": [
    "import glob \n",
    "\n",
    "files = all_files = glob.glob(f\"{DATA_PATH}/temp_train/*.csv\")"
   ]
  },
  {
   "cell_type": "code",
   "execution_count": 4,
   "id": "current-religious",
   "metadata": {},
   "outputs": [],
   "source": [
    "from pyspark.sql.session import SparkSession\n",
    "\n",
    "spark = SparkSession.builder\\\n",
    "        .master(\"local\")\\\n",
    "        .appName(\"Distributed Word Embeddings\")\\\n",
    "        .getOrCreate()"
   ]
  },
  {
   "cell_type": "code",
   "execution_count": 5,
   "id": "developing-orlando",
   "metadata": {},
   "outputs": [],
   "source": [
    "df = spark.read.options(header=True, maxColumns=22500).csv(files)"
   ]
  },
  {
   "cell_type": "markdown",
   "id": "generic-motorcycle",
   "metadata": {},
   "source": [
    "```python\n",
    "from pyspark.sql import functions as F\n",
    "\n",
    "for col in df.columns:\n",
    "    if col != \"actual_words\":\n",
    "        print(type(df.select(F.sum(col)).collect()[0][0]))\n",
    "        break\n",
    "```"
   ]
  },
  {
   "cell_type": "code",
   "execution_count": 6,
   "id": "molecular-charlotte",
   "metadata": {},
   "outputs": [
    {
     "name": "stdout",
     "output_type": "stream",
     "text": [
      "Requirement already satisfied: joblib in /opt/conda/lib/python3.8/site-packages (1.0.0)\n",
      "Requirement already satisfied: joblibspark in /opt/conda/lib/python3.8/site-packages (0.3.0)\n",
      "Requirement already satisfied: joblib>=0.14 in /opt/conda/lib/python3.8/site-packages (from joblibspark) (1.0.0)\n"
     ]
    }
   ],
   "source": [
    "!pip install joblib\n",
    "!pip install joblibspark"
   ]
  },
  {
   "cell_type": "code",
   "execution_count": 11,
   "id": "anonymous-struggle",
   "metadata": {},
   "outputs": [
    {
     "data": {
      "text/plain": [
       "str"
      ]
     },
     "execution_count": 11,
     "metadata": {},
     "output_type": "execute_result"
    }
   ],
   "source": [
    "type(df.columns[0])"
   ]
  },
  {
   "cell_type": "code",
   "execution_count": null,
   "id": "behind-metadata",
   "metadata": {
    "scrolled": true
   },
   "outputs": [],
   "source": [
    "import multiprocessing\n",
    "from pyspark.sql import functions as F\n",
    "from joblib import Parallel, delayed\n",
    "\n",
    "\n",
    "threshold = 100\n",
    "num_cores = multiprocessing.cpu_count() - 1\n",
    "\n",
    "\n",
    "def get_columns_below_threshold(col):\n",
    "    if col != \"actual_words\":\n",
    "        col_sum = df.select(F.sum(col)).collect()[0][0]\n",
    "        print(col, col_cum)\n",
    "        if col_sum < threshold:\n",
    "            return col\n",
    "        else:\n",
    "            return \"\"\n",
    "        \n",
    "        \n",
    "# columns = Parallel(n_jobs=num_cores)(\n",
    "#     delayed(get_columns_below_threshold)(col) for col in df.columns\n",
    "# )\n",
    "columns = [get_columns_below_threshold(col) for col in df.columns]"
   ]
  },
  {
   "cell_type": "code",
   "execution_count": null,
   "id": "peripheral-blake",
   "metadata": {},
   "outputs": [],
   "source": [
    "columns = list(filter(None, columns))\n",
    "df = df.drop(*columns)\n",
    "df.write.csv(f\"{DATA_PATH}/embeddings_with_sum_of_columns_below_{threshold}.csv\") ## df is an existing DataFrame object."
   ]
  },
  {
   "cell_type": "code",
   "execution_count": null,
   "id": "great-friendly",
   "metadata": {},
   "outputs": [],
   "source": []
  }
 ],
 "metadata": {
  "kernelspec": {
   "display_name": "Python 3",
   "language": "python",
   "name": "python3"
  },
  "language_info": {
   "codemirror_mode": {
    "name": "ipython",
    "version": 3
   },
   "file_extension": ".py",
   "mimetype": "text/x-python",
   "name": "python",
   "nbconvert_exporter": "python",
   "pygments_lexer": "ipython3",
   "version": "3.8.6"
  }
 },
 "nbformat": 4,
 "nbformat_minor": 5
}
